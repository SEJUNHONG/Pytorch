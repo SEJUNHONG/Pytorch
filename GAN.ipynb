{
 "cells": [
  {
   "cell_type": "code",
   "execution_count": 1,
   "metadata": {},
   "outputs": [],
   "source": [
    "import torch\n",
    "import torch.nn as nn\n",
    "\n",
    "from torchvision import datasets\n",
    "import torchvision.transforms as transforms\n",
    "from torchvision.utils import save_image"
   ]
  },
  {
   "cell_type": "code",
   "execution_count": 6,
   "metadata": {},
   "outputs": [],
   "source": [
    "latent_dim=100"
   ]
  },
  {
   "cell_type": "code",
   "execution_count": 2,
   "metadata": {},
   "outputs": [],
   "source": [
    "class Generator(nn.Module):\n",
    "    def __init__(self):\n",
    "        super(Generator, self).__init__()\n",
    "        \n",
    "        def block(input_dim, output_dim, normalize=True):\n",
    "            layers=[nn.Linear(input_dim, output_dim)]\n",
    "            if normalize:\n",
    "                layers.append(nn.BatchNorm1d(output_dim, 0.8))\n",
    "            layers.append(nn.LeakyReLU(0.2, inplace=True))\n",
    "            return layers\n",
    "        \n",
    "        self.model=nn.Sequential(\n",
    "            *block(latent_dim, 128, normalize=False),\n",
    "            *block(128, 256),\n",
    "            *block(256, 512),\n",
    "            *block(512, 1024),\n",
    "            nn.Linear(1024, 1*28*28),\n",
    "            nn.Tanh()\n",
    "        )\n",
    "    \n",
    "    def forward(self, z):\n",
    "        img=self.model(z)\n",
    "        img=img.view(img.size(0), 1, 28, 28)\n",
    "        return img"
   ]
  },
  {
   "cell_type": "code",
   "execution_count": 3,
   "metadata": {},
   "outputs": [],
   "source": [
    "class Discriminator(nn.Module):\n",
    "    def __init__(self):\n",
    "        super(Discriminator, self).__init__()\n",
    "        \n",
    "        self.model=nn.Sequential(\n",
    "            nn.Linear(1*28*28, 512),\n",
    "            nn.LeakyReLU(0.2, inplace=True),\n",
    "            nn.Linear(512,256),\n",
    "            nn.LeakyReLU(0.2, inplace=True),\n",
    "            nn.Linear(256, 1),\n",
    "            nn.Sigmoid(),\n",
    "        )\n",
    "        \n",
    "    def forward(self, img):\n",
    "        flattened=img.view(img.size(0), -1)\n",
    "        output=self.model(flattened)\n",
    "        return output"
   ]
  },
  {
   "cell_type": "code",
   "execution_count": 4,
   "metadata": {},
   "outputs": [
    {
     "name": "stdout",
     "output_type": "stream",
     "text": [
      "Downloading http://yann.lecun.com/exdb/mnist/train-images-idx3-ubyte.gz to ./dataset\\MNIST\\raw\\train-images-idx3-ubyte.gz\n"
     ]
    },
    {
     "name": "stderr",
     "output_type": "stream",
     "text": [
      "100.1%"
     ]
    },
    {
     "name": "stdout",
     "output_type": "stream",
     "text": [
      "Extracting ./dataset\\MNIST\\raw\\train-images-idx3-ubyte.gz to ./dataset\\MNIST\\raw\n",
      "Downloading http://yann.lecun.com/exdb/mnist/train-labels-idx1-ubyte.gz to ./dataset\\MNIST\\raw\\train-labels-idx1-ubyte.gz\n"
     ]
    },
    {
     "name": "stderr",
     "output_type": "stream",
     "text": [
      "113.5%"
     ]
    },
    {
     "name": "stdout",
     "output_type": "stream",
     "text": [
      "Extracting ./dataset\\MNIST\\raw\\train-labels-idx1-ubyte.gz to ./dataset\\MNIST\\raw\n",
      "Downloading http://yann.lecun.com/exdb/mnist/t10k-images-idx3-ubyte.gz to ./dataset\\MNIST\\raw\\t10k-images-idx3-ubyte.gz\n"
     ]
    },
    {
     "name": "stderr",
     "output_type": "stream",
     "text": [
      "100.4%"
     ]
    },
    {
     "name": "stdout",
     "output_type": "stream",
     "text": [
      "Extracting ./dataset\\MNIST\\raw\\t10k-images-idx3-ubyte.gz to ./dataset\\MNIST\\raw\n",
      "Downloading http://yann.lecun.com/exdb/mnist/t10k-labels-idx1-ubyte.gz to ./dataset\\MNIST\\raw\\t10k-labels-idx1-ubyte.gz\n"
     ]
    },
    {
     "name": "stderr",
     "output_type": "stream",
     "text": [
      "180.4%"
     ]
    },
    {
     "name": "stdout",
     "output_type": "stream",
     "text": [
      "Extracting ./dataset\\MNIST\\raw\\t10k-labels-idx1-ubyte.gz to ./dataset\\MNIST\\raw\n",
      "Processing...\n",
      "Done!\n"
     ]
    },
    {
     "name": "stderr",
     "output_type": "stream",
     "text": [
      "C:\\Users\\user\\.conda\\envs\\pytorch\\lib\\site-packages\\torchvision\\datasets\\mnist.py:480: UserWarning: The given NumPy array is not writeable, and PyTorch does not support non-writeable tensors. This means you can write to the underlying (supposedly non-writeable) NumPy array using the tensor. You may want to copy the array to protect its data or make it writeable before converting it to a tensor. This type of warning will be suppressed for the rest of this program. (Triggered internally at  ..\\torch\\csrc\\utils\\tensor_numpy.cpp:141.)\n",
      "  return torch.from_numpy(parsed.astype(m[2], copy=False)).view(*s)\n"
     ]
    }
   ],
   "source": [
    "transforms_train=transforms.Compose([\n",
    "    transforms.Resize(28),\n",
    "    transforms.ToTensor(),\n",
    "    transforms.Normalize([0.5], [0.5])\n",
    "])\n",
    "\n",
    "train_dataset=datasets.MNIST(root=\"./dataset\", train=True, download=True, transform=transforms_train)\n",
    "dataloader=torch.utils.data.DataLoader(train_dataset, batch_size=128, shuffle=True, num_workers=4)"
   ]
  },
  {
   "cell_type": "code",
   "execution_count": 7,
   "metadata": {},
   "outputs": [],
   "source": [
    "generator=Generator()\n",
    "discriminator=Discriminator()\n",
    "\n",
    "generator.cuda()\n",
    "discriminator.cuda()\n",
    "\n",
    "adversarial_loss=nn.BCELoss()\n",
    "adversarial_loss.cuda()\n",
    "\n",
    "lr=0.0002\n",
    "\n",
    "optimizer_G=torch.optim.Adam(generator.parameters(), lr=lr, betas=(0.5, 0.999))\n",
    "optimizer_D=torch.optim.Adam(discriminator.parameters(), lr=lr, betas=(0.5, 0.999))"
   ]
  },
  {
   "cell_type": "code",
   "execution_count": 8,
   "metadata": {},
   "outputs": [],
   "source": [
    "import time\n",
    "\n",
    "n_epochs=200\n",
    "sample_interval=2000\n",
    "start_time=time.time()"
   ]
  },
  {
   "cell_type": "code",
   "execution_count": 9,
   "metadata": {
    "scrolled": false
   },
   "outputs": [
    {
     "name": "stdout",
     "output_type": "stream",
     "text": [
      "[Epoch 0/200] [D loss: 0.568325] [G loss: 1.300308] [Elapsed time: 402.57s]\n",
      "[Epoch 1/200] [D loss: 0.383768] [G loss: 1.107510] [Elapsed time: 406.21s]\n",
      "[Epoch 2/200] [D loss: 0.340844] [G loss: 1.020312] [Elapsed time: 409.96s]\n",
      "[Epoch 3/200] [D loss: 0.426620] [G loss: 0.705824] [Elapsed time: 413.61s]\n",
      "[Epoch 4/200] [D loss: 1.076822] [G loss: 4.125616] [Elapsed time: 417.29s]\n",
      "[Epoch 5/200] [D loss: 0.315911] [G loss: 1.278444] [Elapsed time: 420.99s]\n",
      "[Epoch 6/200] [D loss: 0.344296] [G loss: 0.972125] [Elapsed time: 424.53s]\n",
      "[Epoch 7/200] [D loss: 0.214985] [G loss: 2.805456] [Elapsed time: 428.12s]\n",
      "[Epoch 8/200] [D loss: 0.230796] [G loss: 2.108602] [Elapsed time: 431.69s]\n",
      "[Epoch 9/200] [D loss: 0.218235] [G loss: 1.487318] [Elapsed time: 435.19s]\n",
      "[Epoch 10/200] [D loss: 0.181039] [G loss: 1.606486] [Elapsed time: 438.71s]\n",
      "[Epoch 11/200] [D loss: 0.141854] [G loss: 2.605847] [Elapsed time: 442.22s]\n",
      "[Epoch 12/200] [D loss: 0.633585] [G loss: 0.429155] [Elapsed time: 445.97s]\n",
      "[Epoch 13/200] [D loss: 0.329451] [G loss: 3.018004] [Elapsed time: 449.55s]\n",
      "[Epoch 14/200] [D loss: 0.480734] [G loss: 0.815981] [Elapsed time: 453.12s]\n",
      "[Epoch 15/200] [D loss: 0.227837] [G loss: 3.038196] [Elapsed time: 456.61s]\n",
      "[Epoch 16/200] [D loss: 0.268025] [G loss: 1.810773] [Elapsed time: 460.30s]\n",
      "[Epoch 17/200] [D loss: 0.108509] [G loss: 2.793671] [Elapsed time: 463.92s]\n",
      "[Epoch 18/200] [D loss: 0.135587] [G loss: 1.904353] [Elapsed time: 467.45s]\n",
      "[Epoch 19/200] [D loss: 0.109660] [G loss: 2.416890] [Elapsed time: 471.04s]\n",
      "[Epoch 20/200] [D loss: 0.303735] [G loss: 1.805949] [Elapsed time: 474.53s]\n",
      "[Epoch 21/200] [D loss: 0.257548] [G loss: 1.528538] [Elapsed time: 478.02s]\n",
      "[Epoch 22/200] [D loss: 0.249442] [G loss: 1.420321] [Elapsed time: 481.50s]\n",
      "[Epoch 23/200] [D loss: 0.179339] [G loss: 5.691746] [Elapsed time: 484.98s]\n",
      "[Epoch 24/200] [D loss: 0.296929] [G loss: 3.287017] [Elapsed time: 488.47s]\n",
      "[Epoch 25/200] [D loss: 0.226182] [G loss: 1.664618] [Elapsed time: 491.96s]\n",
      "[Epoch 26/200] [D loss: 0.143508] [G loss: 2.676025] [Elapsed time: 495.43s]\n",
      "[Epoch 27/200] [D loss: 0.122761] [G loss: 2.145483] [Elapsed time: 498.92s]\n",
      "[Epoch 28/200] [D loss: 0.116125] [G loss: 2.686984] [Elapsed time: 502.41s]\n",
      "[Epoch 29/200] [D loss: 0.149814] [G loss: 4.173748] [Elapsed time: 505.88s]\n",
      "[Epoch 30/200] [D loss: 0.163216] [G loss: 2.887677] [Elapsed time: 509.35s]\n",
      "[Epoch 31/200] [D loss: 0.199800] [G loss: 1.701302] [Elapsed time: 512.83s]\n",
      "[Epoch 32/200] [D loss: 0.085672] [G loss: 2.428367] [Elapsed time: 516.30s]\n",
      "[Epoch 33/200] [D loss: 0.165940] [G loss: 4.143351] [Elapsed time: 519.79s]\n",
      "[Epoch 34/200] [D loss: 0.290280] [G loss: 5.341708] [Elapsed time: 523.28s]\n",
      "[Epoch 35/200] [D loss: 0.220103] [G loss: 2.366298] [Elapsed time: 526.78s]\n",
      "[Epoch 36/200] [D loss: 0.138729] [G loss: 2.113954] [Elapsed time: 530.26s]\n",
      "[Epoch 37/200] [D loss: 0.339216] [G loss: 1.651635] [Elapsed time: 533.77s]\n",
      "[Epoch 38/200] [D loss: 0.071639] [G loss: 3.400329] [Elapsed time: 537.31s]\n",
      "[Epoch 39/200] [D loss: 0.254207] [G loss: 2.599542] [Elapsed time: 540.77s]\n",
      "[Epoch 40/200] [D loss: 0.139029] [G loss: 2.026573] [Elapsed time: 544.28s]\n",
      "[Epoch 41/200] [D loss: 0.109367] [G loss: 3.407537] [Elapsed time: 547.81s]\n",
      "[Epoch 42/200] [D loss: 0.066678] [G loss: 3.218732] [Elapsed time: 551.29s]\n",
      "[Epoch 43/200] [D loss: 0.208759] [G loss: 1.744200] [Elapsed time: 554.73s]\n",
      "[Epoch 44/200] [D loss: 0.303574] [G loss: 1.891652] [Elapsed time: 558.22s]\n",
      "[Epoch 45/200] [D loss: 0.138219] [G loss: 2.536148] [Elapsed time: 561.69s]\n",
      "[Epoch 46/200] [D loss: 0.184103] [G loss: 5.112081] [Elapsed time: 565.14s]\n",
      "[Epoch 47/200] [D loss: 0.070499] [G loss: 2.929171] [Elapsed time: 568.65s]\n",
      "[Epoch 48/200] [D loss: 0.241549] [G loss: 1.956690] [Elapsed time: 572.20s]\n",
      "[Epoch 49/200] [D loss: 0.185224] [G loss: 2.426648] [Elapsed time: 575.78s]\n",
      "[Epoch 50/200] [D loss: 0.265571] [G loss: 1.612267] [Elapsed time: 579.33s]\n",
      "[Epoch 51/200] [D loss: 0.145099] [G loss: 2.168264] [Elapsed time: 582.95s]\n",
      "[Epoch 52/200] [D loss: 0.183054] [G loss: 1.971873] [Elapsed time: 586.57s]\n",
      "[Epoch 53/200] [D loss: 0.190947] [G loss: 1.568268] [Elapsed time: 590.04s]\n",
      "[Epoch 54/200] [D loss: 0.222804] [G loss: 2.148968] [Elapsed time: 593.63s]\n",
      "[Epoch 55/200] [D loss: 0.188453] [G loss: 2.531462] [Elapsed time: 597.25s]\n",
      "[Epoch 56/200] [D loss: 0.545952] [G loss: 0.601167] [Elapsed time: 600.87s]\n",
      "[Epoch 57/200] [D loss: 0.189769] [G loss: 2.286347] [Elapsed time: 604.33s]\n",
      "[Epoch 58/200] [D loss: 0.248695] [G loss: 4.543426] [Elapsed time: 607.81s]\n",
      "[Epoch 59/200] [D loss: 0.188081] [G loss: 2.219046] [Elapsed time: 611.29s]\n",
      "[Epoch 60/200] [D loss: 0.140931] [G loss: 2.310649] [Elapsed time: 614.74s]\n",
      "[Epoch 61/200] [D loss: 0.128444] [G loss: 2.538176] [Elapsed time: 618.20s]\n",
      "[Epoch 62/200] [D loss: 0.258957] [G loss: 2.107175] [Elapsed time: 621.70s]\n",
      "[Epoch 63/200] [D loss: 0.152728] [G loss: 2.718371] [Elapsed time: 625.19s]\n",
      "[Epoch 64/200] [D loss: 0.272028] [G loss: 1.679562] [Elapsed time: 628.66s]\n",
      "[Epoch 65/200] [D loss: 0.272860] [G loss: 2.896564] [Elapsed time: 632.14s]\n",
      "[Epoch 66/200] [D loss: 0.355656] [G loss: 3.593532] [Elapsed time: 635.61s]\n",
      "[Epoch 67/200] [D loss: 0.238815] [G loss: 2.152346] [Elapsed time: 639.08s]\n",
      "[Epoch 68/200] [D loss: 0.163404] [G loss: 3.087673] [Elapsed time: 642.57s]\n",
      "[Epoch 69/200] [D loss: 0.196726] [G loss: 1.898911] [Elapsed time: 646.04s]\n",
      "[Epoch 70/200] [D loss: 0.201587] [G loss: 3.120153] [Elapsed time: 649.51s]\n",
      "[Epoch 71/200] [D loss: 0.453661] [G loss: 3.542073] [Elapsed time: 653.01s]\n",
      "[Epoch 72/200] [D loss: 0.376728] [G loss: 2.121452] [Elapsed time: 656.54s]\n",
      "[Epoch 73/200] [D loss: 0.260575] [G loss: 2.963015] [Elapsed time: 660.01s]\n",
      "[Epoch 74/200] [D loss: 0.393592] [G loss: 3.838772] [Elapsed time: 663.49s]\n",
      "[Epoch 75/200] [D loss: 0.329910] [G loss: 1.342685] [Elapsed time: 666.96s]\n",
      "[Epoch 76/200] [D loss: 0.375112] [G loss: 4.463665] [Elapsed time: 670.45s]\n",
      "[Epoch 77/200] [D loss: 0.210591] [G loss: 2.468828] [Elapsed time: 673.93s]\n",
      "[Epoch 78/200] [D loss: 0.306406] [G loss: 1.467587] [Elapsed time: 677.40s]\n",
      "[Epoch 79/200] [D loss: 0.208375] [G loss: 1.764775] [Elapsed time: 680.86s]\n",
      "[Epoch 80/200] [D loss: 0.227580] [G loss: 2.599548] [Elapsed time: 684.34s]\n",
      "[Epoch 81/200] [D loss: 0.342247] [G loss: 1.949874] [Elapsed time: 687.80s]\n",
      "[Epoch 82/200] [D loss: 0.279959] [G loss: 2.203789] [Elapsed time: 691.29s]\n",
      "[Epoch 83/200] [D loss: 0.916738] [G loss: 6.081608] [Elapsed time: 694.79s]\n",
      "[Epoch 84/200] [D loss: 0.273624] [G loss: 1.988281] [Elapsed time: 698.24s]\n",
      "[Epoch 85/200] [D loss: 0.377216] [G loss: 3.284306] [Elapsed time: 701.71s]\n",
      "[Epoch 86/200] [D loss: 0.268962] [G loss: 2.712790] [Elapsed time: 705.23s]\n",
      "[Epoch 87/200] [D loss: 0.292157] [G loss: 1.717327] [Elapsed time: 708.72s]\n",
      "[Epoch 88/200] [D loss: 0.194531] [G loss: 1.850196] [Elapsed time: 712.18s]\n",
      "[Epoch 89/200] [D loss: 0.210112] [G loss: 2.274073] [Elapsed time: 715.72s]\n",
      "[Epoch 90/200] [D loss: 0.246945] [G loss: 1.769956] [Elapsed time: 719.21s]\n",
      "[Epoch 91/200] [D loss: 0.288230] [G loss: 1.818065] [Elapsed time: 722.70s]\n",
      "[Epoch 92/200] [D loss: 0.167742] [G loss: 2.371798] [Elapsed time: 726.17s]\n",
      "[Epoch 93/200] [D loss: 0.203013] [G loss: 2.094655] [Elapsed time: 729.63s]\n",
      "[Epoch 94/200] [D loss: 0.297360] [G loss: 1.309298] [Elapsed time: 733.10s]\n",
      "[Epoch 95/200] [D loss: 0.222560] [G loss: 2.142141] [Elapsed time: 736.58s]\n",
      "[Epoch 96/200] [D loss: 0.189212] [G loss: 2.188369] [Elapsed time: 740.05s]\n",
      "[Epoch 97/200] [D loss: 0.337354] [G loss: 2.348493] [Elapsed time: 743.54s]\n",
      "[Epoch 98/200] [D loss: 0.280545] [G loss: 2.758796] [Elapsed time: 747.01s]\n",
      "[Epoch 99/200] [D loss: 0.239708] [G loss: 2.031980] [Elapsed time: 750.49s]\n",
      "[Epoch 100/200] [D loss: 0.598940] [G loss: 6.104552] [Elapsed time: 753.96s]\n",
      "[Epoch 101/200] [D loss: 0.290745] [G loss: 1.451532] [Elapsed time: 757.43s]\n",
      "[Epoch 102/200] [D loss: 0.187752] [G loss: 2.096837] [Elapsed time: 760.92s]\n",
      "[Epoch 103/200] [D loss: 0.226517] [G loss: 3.184735] [Elapsed time: 764.37s]\n",
      "[Epoch 104/200] [D loss: 0.316195] [G loss: 1.883415] [Elapsed time: 767.88s]\n",
      "[Epoch 105/200] [D loss: 0.218666] [G loss: 3.272899] [Elapsed time: 771.39s]\n",
      "[Epoch 106/200] [D loss: 0.226031] [G loss: 2.853533] [Elapsed time: 774.93s]\n"
     ]
    },
    {
     "name": "stdout",
     "output_type": "stream",
     "text": [
      "[Epoch 107/200] [D loss: 0.228679] [G loss: 2.447406] [Elapsed time: 778.49s]\n",
      "[Epoch 108/200] [D loss: 0.222144] [G loss: 2.149158] [Elapsed time: 782.03s]\n",
      "[Epoch 109/200] [D loss: 0.186704] [G loss: 2.022593] [Elapsed time: 785.56s]\n",
      "[Epoch 110/200] [D loss: 0.313482] [G loss: 3.884405] [Elapsed time: 789.33s]\n",
      "[Epoch 111/200] [D loss: 0.224471] [G loss: 2.478915] [Elapsed time: 792.82s]\n",
      "[Epoch 112/200] [D loss: 0.309097] [G loss: 1.596032] [Elapsed time: 796.42s]\n",
      "[Epoch 113/200] [D loss: 0.360946] [G loss: 2.419624] [Elapsed time: 800.02s]\n",
      "[Epoch 114/200] [D loss: 0.331765] [G loss: 1.712710] [Elapsed time: 803.62s]\n",
      "[Epoch 115/200] [D loss: 0.245333] [G loss: 1.804303] [Elapsed time: 807.31s]\n",
      "[Epoch 116/200] [D loss: 0.320033] [G loss: 3.188808] [Elapsed time: 811.03s]\n",
      "[Epoch 117/200] [D loss: 0.293326] [G loss: 3.838867] [Elapsed time: 814.69s]\n",
      "[Epoch 118/200] [D loss: 0.193630] [G loss: 2.305561] [Elapsed time: 818.24s]\n",
      "[Epoch 119/200] [D loss: 0.188222] [G loss: 2.689086] [Elapsed time: 821.80s]\n",
      "[Epoch 120/200] [D loss: 0.194354] [G loss: 2.650715] [Elapsed time: 825.28s]\n",
      "[Epoch 121/200] [D loss: 0.233857] [G loss: 2.440489] [Elapsed time: 828.77s]\n",
      "[Epoch 122/200] [D loss: 0.177719] [G loss: 2.467498] [Elapsed time: 832.30s]\n",
      "[Epoch 123/200] [D loss: 0.315914] [G loss: 2.898090] [Elapsed time: 835.83s]\n",
      "[Epoch 124/200] [D loss: 0.248910] [G loss: 1.622593] [Elapsed time: 839.33s]\n",
      "[Epoch 125/200] [D loss: 0.222081] [G loss: 2.237263] [Elapsed time: 842.85s]\n",
      "[Epoch 126/200] [D loss: 0.314391] [G loss: 2.678504] [Elapsed time: 846.39s]\n",
      "[Epoch 127/200] [D loss: 0.162720] [G loss: 2.156272] [Elapsed time: 849.90s]\n",
      "[Epoch 128/200] [D loss: 0.240430] [G loss: 1.929348] [Elapsed time: 853.40s]\n",
      "[Epoch 129/200] [D loss: 0.175153] [G loss: 2.039894] [Elapsed time: 856.89s]\n",
      "[Epoch 130/200] [D loss: 0.241404] [G loss: 1.625079] [Elapsed time: 860.46s]\n",
      "[Epoch 131/200] [D loss: 0.238488] [G loss: 2.175203] [Elapsed time: 863.96s]\n",
      "[Epoch 132/200] [D loss: 0.240034] [G loss: 2.477541] [Elapsed time: 867.47s]\n",
      "[Epoch 133/200] [D loss: 0.300831] [G loss: 2.535803] [Elapsed time: 870.95s]\n",
      "[Epoch 134/200] [D loss: 0.327343] [G loss: 2.018252] [Elapsed time: 874.42s]\n",
      "[Epoch 135/200] [D loss: 0.232331] [G loss: 2.414100] [Elapsed time: 877.87s]\n",
      "[Epoch 136/200] [D loss: 0.196839] [G loss: 3.595776] [Elapsed time: 881.35s]\n",
      "[Epoch 137/200] [D loss: 0.235907] [G loss: 2.830999] [Elapsed time: 884.84s]\n",
      "[Epoch 138/200] [D loss: 0.164120] [G loss: 2.764297] [Elapsed time: 888.32s]\n",
      "[Epoch 139/200] [D loss: 0.261377] [G loss: 2.199358] [Elapsed time: 891.93s]\n",
      "[Epoch 140/200] [D loss: 0.337828] [G loss: 2.806069] [Elapsed time: 895.54s]\n",
      "[Epoch 141/200] [D loss: 0.183911] [G loss: 2.809687] [Elapsed time: 899.03s]\n",
      "[Epoch 142/200] [D loss: 0.218730] [G loss: 2.669391] [Elapsed time: 902.64s]\n",
      "[Epoch 143/200] [D loss: 0.198574] [G loss: 2.086105] [Elapsed time: 906.21s]\n",
      "[Epoch 144/200] [D loss: 0.251877] [G loss: 1.790101] [Elapsed time: 909.77s]\n",
      "[Epoch 145/200] [D loss: 0.243573] [G loss: 2.676930] [Elapsed time: 913.28s]\n",
      "[Epoch 146/200] [D loss: 0.295844] [G loss: 2.837322] [Elapsed time: 916.76s]\n",
      "[Epoch 147/200] [D loss: 0.252024] [G loss: 2.097539] [Elapsed time: 920.24s]\n",
      "[Epoch 148/200] [D loss: 0.302909] [G loss: 2.391598] [Elapsed time: 923.73s]\n",
      "[Epoch 149/200] [D loss: 0.272374] [G loss: 2.921706] [Elapsed time: 927.23s]\n",
      "[Epoch 150/200] [D loss: 0.176462] [G loss: 2.635318] [Elapsed time: 930.73s]\n",
      "[Epoch 151/200] [D loss: 0.267835] [G loss: 2.926821] [Elapsed time: 934.22s]\n",
      "[Epoch 152/200] [D loss: 0.236146] [G loss: 3.353838] [Elapsed time: 937.68s]\n",
      "[Epoch 153/200] [D loss: 0.214963] [G loss: 1.733425] [Elapsed time: 941.15s]\n",
      "[Epoch 154/200] [D loss: 0.175291] [G loss: 1.895883] [Elapsed time: 944.61s]\n",
      "[Epoch 155/200] [D loss: 0.234822] [G loss: 2.450552] [Elapsed time: 948.08s]\n",
      "[Epoch 156/200] [D loss: 0.252229] [G loss: 3.201433] [Elapsed time: 951.57s]\n",
      "[Epoch 157/200] [D loss: 0.290005] [G loss: 2.011709] [Elapsed time: 955.05s]\n",
      "[Epoch 158/200] [D loss: 0.206743] [G loss: 2.661878] [Elapsed time: 958.53s]\n",
      "[Epoch 159/200] [D loss: 0.228903] [G loss: 2.568814] [Elapsed time: 961.98s]\n",
      "[Epoch 160/200] [D loss: 0.225522] [G loss: 2.239081] [Elapsed time: 965.46s]\n",
      "[Epoch 161/200] [D loss: 0.180698] [G loss: 2.702754] [Elapsed time: 968.91s]\n",
      "[Epoch 162/200] [D loss: 0.359076] [G loss: 1.553575] [Elapsed time: 972.39s]\n",
      "[Epoch 163/200] [D loss: 0.210374] [G loss: 2.270537] [Elapsed time: 975.85s]\n",
      "[Epoch 164/200] [D loss: 0.185899] [G loss: 2.588057] [Elapsed time: 979.33s]\n",
      "[Epoch 165/200] [D loss: 0.247191] [G loss: 2.955378] [Elapsed time: 982.80s]\n",
      "[Epoch 166/200] [D loss: 0.207585] [G loss: 2.663421] [Elapsed time: 986.24s]\n",
      "[Epoch 167/200] [D loss: 0.293861] [G loss: 2.167095] [Elapsed time: 989.73s]\n",
      "[Epoch 168/200] [D loss: 0.282598] [G loss: 2.770674] [Elapsed time: 993.18s]\n",
      "[Epoch 169/200] [D loss: 0.278962] [G loss: 2.796263] [Elapsed time: 996.71s]\n",
      "[Epoch 170/200] [D loss: 0.185881] [G loss: 2.084596] [Elapsed time: 1000.28s]\n",
      "[Epoch 171/200] [D loss: 0.298704] [G loss: 1.873968] [Elapsed time: 1003.77s]\n",
      "[Epoch 172/200] [D loss: 0.255351] [G loss: 2.507174] [Elapsed time: 1007.27s]\n",
      "[Epoch 173/200] [D loss: 0.350276] [G loss: 2.503347] [Elapsed time: 1010.77s]\n",
      "[Epoch 174/200] [D loss: 0.212717] [G loss: 1.740695] [Elapsed time: 1014.37s]\n",
      "[Epoch 175/200] [D loss: 0.206437] [G loss: 2.460427] [Elapsed time: 1017.92s]\n",
      "[Epoch 176/200] [D loss: 0.377453] [G loss: 4.255229] [Elapsed time: 1021.42s]\n",
      "[Epoch 177/200] [D loss: 0.383757] [G loss: 3.519701] [Elapsed time: 1024.89s]\n",
      "[Epoch 178/200] [D loss: 0.310052] [G loss: 3.554946] [Elapsed time: 1028.39s]\n",
      "[Epoch 179/200] [D loss: 0.241799] [G loss: 2.223084] [Elapsed time: 1031.88s]\n",
      "[Epoch 180/200] [D loss: 0.277573] [G loss: 2.350279] [Elapsed time: 1035.37s]\n",
      "[Epoch 181/200] [D loss: 0.288000] [G loss: 2.767825] [Elapsed time: 1038.92s]\n",
      "[Epoch 182/200] [D loss: 0.190845] [G loss: 2.046550] [Elapsed time: 1042.49s]\n",
      "[Epoch 183/200] [D loss: 0.283212] [G loss: 2.484118] [Elapsed time: 1046.01s]\n",
      "[Epoch 184/200] [D loss: 0.253778] [G loss: 3.013588] [Elapsed time: 1049.50s]\n",
      "[Epoch 185/200] [D loss: 0.281317] [G loss: 2.586480] [Elapsed time: 1053.01s]\n",
      "[Epoch 186/200] [D loss: 0.336268] [G loss: 2.020709] [Elapsed time: 1056.56s]\n",
      "[Epoch 187/200] [D loss: 0.233686] [G loss: 3.193695] [Elapsed time: 1060.04s]\n",
      "[Epoch 188/200] [D loss: 0.296942] [G loss: 2.637825] [Elapsed time: 1063.52s]\n",
      "[Epoch 189/200] [D loss: 0.183102] [G loss: 3.456531] [Elapsed time: 1067.06s]\n",
      "[Epoch 190/200] [D loss: 0.281901] [G loss: 2.205812] [Elapsed time: 1070.59s]\n",
      "[Epoch 191/200] [D loss: 0.312810] [G loss: 1.899658] [Elapsed time: 1074.18s]\n",
      "[Epoch 192/200] [D loss: 0.326711] [G loss: 3.021431] [Elapsed time: 1077.66s]\n",
      "[Epoch 193/200] [D loss: 0.215563] [G loss: 2.131651] [Elapsed time: 1081.16s]\n",
      "[Epoch 194/200] [D loss: 0.229492] [G loss: 2.446389] [Elapsed time: 1084.70s]\n",
      "[Epoch 195/200] [D loss: 0.256140] [G loss: 3.264739] [Elapsed time: 1088.26s]\n",
      "[Epoch 196/200] [D loss: 0.352877] [G loss: 2.899356] [Elapsed time: 1091.86s]\n",
      "[Epoch 197/200] [D loss: 0.213686] [G loss: 2.881964] [Elapsed time: 1095.54s]\n",
      "[Epoch 198/200] [D loss: 0.179917] [G loss: 2.201837] [Elapsed time: 1099.06s]\n",
      "[Epoch 199/200] [D loss: 0.239162] [G loss: 2.446985] [Elapsed time: 1102.58s]\n"
     ]
    }
   ],
   "source": [
    "for epoch in range(n_epochs):\n",
    "    for i, (imgs, _) in enumerate(dataloader):\n",
    "        real=torch.cuda.FloatTensor(imgs.size(0), 1).fill_(1.0)\n",
    "        fake=torch.cuda.FloatTensor(imgs.size(0), 1).fill_(0.0)\n",
    "        \n",
    "        real_imgs=imgs.cuda()\n",
    "        \n",
    "        optimizer_G.zero_grad()\n",
    "        \n",
    "        z=torch.normal(mean=0, std=1, size=(imgs.shape[0], latent_dim)).cuda()\n",
    "        \n",
    "        generated_imgs=generator(z)\n",
    "        \n",
    "        g_loss=adversarial_loss(discriminator(generated_imgs), real)\n",
    "        \n",
    "        g_loss.backward()\n",
    "        optimizer_G.step()\n",
    "        \n",
    "        optimizer_D.zero_grad()\n",
    "        \n",
    "        real_loss=adversarial_loss(discriminator(real_imgs), real)\n",
    "        fake_loss=adversarial_loss(discriminator(generated_imgs.detach()), fake)\n",
    "        d_loss=(real_loss+fake_loss)/2\n",
    "        \n",
    "        d_loss.backward()\n",
    "        optimizer_D.step()\n",
    "        \n",
    "        done=epoch+len(dataloader)+i\n",
    "        if done%sample_interval==0:\n",
    "            save_image(generated_imgs.data[:25], f\"{done}.png\", nrow=5, normalize=True)\n",
    "    print(f\"[Epoch {epoch}/{n_epochs}] [D loss: {d_loss.item():.6f}] [G loss: {g_loss.item():.6f}] [Elapsed time: {time.time() - start_time:.2f}s]\")"
   ]
  },
  {
   "cell_type": "code",
   "execution_count": 11,
   "metadata": {},
   "outputs": [
    {
     "ename": "FileNotFoundError",
     "evalue": "No such file or directory: '92000.png'",
     "output_type": "error",
     "traceback": [
      "\u001b[1;31m---------------------------------------------------------------------------\u001b[0m",
      "\u001b[1;31mTypeError\u001b[0m                                 Traceback (most recent call last)",
      "\u001b[1;32m~\\.conda\\envs\\pytorch\\lib\\site-packages\\IPython\\core\\display.py\u001b[0m in \u001b[0;36m_data_and_metadata\u001b[1;34m(self, always_both)\u001b[0m\n\u001b[0;32m   1292\u001b[0m         \u001b[1;32mtry\u001b[0m\u001b[1;33m:\u001b[0m\u001b[1;33m\u001b[0m\u001b[1;33m\u001b[0m\u001b[0m\n\u001b[1;32m-> 1293\u001b[1;33m             \u001b[0mb64_data\u001b[0m \u001b[1;33m=\u001b[0m \u001b[0mb2a_base64\u001b[0m\u001b[1;33m(\u001b[0m\u001b[0mself\u001b[0m\u001b[1;33m.\u001b[0m\u001b[0mdata\u001b[0m\u001b[1;33m)\u001b[0m\u001b[1;33m.\u001b[0m\u001b[0mdecode\u001b[0m\u001b[1;33m(\u001b[0m\u001b[1;34m'ascii'\u001b[0m\u001b[1;33m)\u001b[0m\u001b[1;33m\u001b[0m\u001b[1;33m\u001b[0m\u001b[0m\n\u001b[0m\u001b[0;32m   1294\u001b[0m         \u001b[1;32mexcept\u001b[0m \u001b[0mTypeError\u001b[0m\u001b[1;33m:\u001b[0m\u001b[1;33m\u001b[0m\u001b[1;33m\u001b[0m\u001b[0m\n",
      "\u001b[1;31mTypeError\u001b[0m: a bytes-like object is required, not 'str'",
      "\nDuring handling of the above exception, another exception occurred:\n",
      "\u001b[1;31mFileNotFoundError\u001b[0m                         Traceback (most recent call last)",
      "\u001b[1;32m~\\.conda\\envs\\pytorch\\lib\\site-packages\\IPython\\core\\formatters.py\u001b[0m in \u001b[0;36m__call__\u001b[1;34m(self, obj, include, exclude)\u001b[0m\n\u001b[0;32m    968\u001b[0m \u001b[1;33m\u001b[0m\u001b[0m\n\u001b[0;32m    969\u001b[0m             \u001b[1;32mif\u001b[0m \u001b[0mmethod\u001b[0m \u001b[1;32mis\u001b[0m \u001b[1;32mnot\u001b[0m \u001b[1;32mNone\u001b[0m\u001b[1;33m:\u001b[0m\u001b[1;33m\u001b[0m\u001b[1;33m\u001b[0m\u001b[0m\n\u001b[1;32m--> 970\u001b[1;33m                 \u001b[1;32mreturn\u001b[0m \u001b[0mmethod\u001b[0m\u001b[1;33m(\u001b[0m\u001b[0minclude\u001b[0m\u001b[1;33m=\u001b[0m\u001b[0minclude\u001b[0m\u001b[1;33m,\u001b[0m \u001b[0mexclude\u001b[0m\u001b[1;33m=\u001b[0m\u001b[0mexclude\u001b[0m\u001b[1;33m)\u001b[0m\u001b[1;33m\u001b[0m\u001b[1;33m\u001b[0m\u001b[0m\n\u001b[0m\u001b[0;32m    971\u001b[0m             \u001b[1;32mreturn\u001b[0m \u001b[1;32mNone\u001b[0m\u001b[1;33m\u001b[0m\u001b[1;33m\u001b[0m\u001b[0m\n\u001b[0;32m    972\u001b[0m         \u001b[1;32melse\u001b[0m\u001b[1;33m:\u001b[0m\u001b[1;33m\u001b[0m\u001b[1;33m\u001b[0m\u001b[0m\n",
      "\u001b[1;32m~\\.conda\\envs\\pytorch\\lib\\site-packages\\IPython\\core\\display.py\u001b[0m in \u001b[0;36m_repr_mimebundle_\u001b[1;34m(self, include, exclude)\u001b[0m\n\u001b[0;32m   1281\u001b[0m         \u001b[1;32mif\u001b[0m \u001b[0mself\u001b[0m\u001b[1;33m.\u001b[0m\u001b[0membed\u001b[0m\u001b[1;33m:\u001b[0m\u001b[1;33m\u001b[0m\u001b[1;33m\u001b[0m\u001b[0m\n\u001b[0;32m   1282\u001b[0m             \u001b[0mmimetype\u001b[0m \u001b[1;33m=\u001b[0m \u001b[0mself\u001b[0m\u001b[1;33m.\u001b[0m\u001b[0m_mimetype\u001b[0m\u001b[1;33m\u001b[0m\u001b[1;33m\u001b[0m\u001b[0m\n\u001b[1;32m-> 1283\u001b[1;33m             \u001b[0mdata\u001b[0m\u001b[1;33m,\u001b[0m \u001b[0mmetadata\u001b[0m \u001b[1;33m=\u001b[0m \u001b[0mself\u001b[0m\u001b[1;33m.\u001b[0m\u001b[0m_data_and_metadata\u001b[0m\u001b[1;33m(\u001b[0m\u001b[0malways_both\u001b[0m\u001b[1;33m=\u001b[0m\u001b[1;32mTrue\u001b[0m\u001b[1;33m)\u001b[0m\u001b[1;33m\u001b[0m\u001b[1;33m\u001b[0m\u001b[0m\n\u001b[0m\u001b[0;32m   1284\u001b[0m             \u001b[1;32mif\u001b[0m \u001b[0mmetadata\u001b[0m\u001b[1;33m:\u001b[0m\u001b[1;33m\u001b[0m\u001b[1;33m\u001b[0m\u001b[0m\n\u001b[0;32m   1285\u001b[0m                 \u001b[0mmetadata\u001b[0m \u001b[1;33m=\u001b[0m \u001b[1;33m{\u001b[0m\u001b[0mmimetype\u001b[0m\u001b[1;33m:\u001b[0m \u001b[0mmetadata\u001b[0m\u001b[1;33m}\u001b[0m\u001b[1;33m\u001b[0m\u001b[1;33m\u001b[0m\u001b[0m\n",
      "\u001b[1;32m~\\.conda\\envs\\pytorch\\lib\\site-packages\\IPython\\core\\display.py\u001b[0m in \u001b[0;36m_data_and_metadata\u001b[1;34m(self, always_both)\u001b[0m\n\u001b[0;32m   1293\u001b[0m             \u001b[0mb64_data\u001b[0m \u001b[1;33m=\u001b[0m \u001b[0mb2a_base64\u001b[0m\u001b[1;33m(\u001b[0m\u001b[0mself\u001b[0m\u001b[1;33m.\u001b[0m\u001b[0mdata\u001b[0m\u001b[1;33m)\u001b[0m\u001b[1;33m.\u001b[0m\u001b[0mdecode\u001b[0m\u001b[1;33m(\u001b[0m\u001b[1;34m'ascii'\u001b[0m\u001b[1;33m)\u001b[0m\u001b[1;33m\u001b[0m\u001b[1;33m\u001b[0m\u001b[0m\n\u001b[0;32m   1294\u001b[0m         \u001b[1;32mexcept\u001b[0m \u001b[0mTypeError\u001b[0m\u001b[1;33m:\u001b[0m\u001b[1;33m\u001b[0m\u001b[1;33m\u001b[0m\u001b[0m\n\u001b[1;32m-> 1295\u001b[1;33m             raise FileNotFoundError(\n\u001b[0m\u001b[0;32m   1296\u001b[0m                 \"No such file or directory: '%s'\" % (self.data))\n\u001b[0;32m   1297\u001b[0m         \u001b[0mmd\u001b[0m \u001b[1;33m=\u001b[0m \u001b[1;33m{\u001b[0m\u001b[1;33m}\u001b[0m\u001b[1;33m\u001b[0m\u001b[1;33m\u001b[0m\u001b[0m\n",
      "\u001b[1;31mFileNotFoundError\u001b[0m: No such file or directory: '92000.png'"
     ]
    },
    {
     "ename": "FileNotFoundError",
     "evalue": "No such file or directory: '92000.png'",
     "output_type": "error",
     "traceback": [
      "\u001b[1;31m---------------------------------------------------------------------------\u001b[0m",
      "\u001b[1;31mTypeError\u001b[0m                                 Traceback (most recent call last)",
      "\u001b[1;32m~\\.conda\\envs\\pytorch\\lib\\site-packages\\IPython\\core\\display.py\u001b[0m in \u001b[0;36m_data_and_metadata\u001b[1;34m(self, always_both)\u001b[0m\n\u001b[0;32m   1292\u001b[0m         \u001b[1;32mtry\u001b[0m\u001b[1;33m:\u001b[0m\u001b[1;33m\u001b[0m\u001b[1;33m\u001b[0m\u001b[0m\n\u001b[1;32m-> 1293\u001b[1;33m             \u001b[0mb64_data\u001b[0m \u001b[1;33m=\u001b[0m \u001b[0mb2a_base64\u001b[0m\u001b[1;33m(\u001b[0m\u001b[0mself\u001b[0m\u001b[1;33m.\u001b[0m\u001b[0mdata\u001b[0m\u001b[1;33m)\u001b[0m\u001b[1;33m.\u001b[0m\u001b[0mdecode\u001b[0m\u001b[1;33m(\u001b[0m\u001b[1;34m'ascii'\u001b[0m\u001b[1;33m)\u001b[0m\u001b[1;33m\u001b[0m\u001b[1;33m\u001b[0m\u001b[0m\n\u001b[0m\u001b[0;32m   1294\u001b[0m         \u001b[1;32mexcept\u001b[0m \u001b[0mTypeError\u001b[0m\u001b[1;33m:\u001b[0m\u001b[1;33m\u001b[0m\u001b[1;33m\u001b[0m\u001b[0m\n",
      "\u001b[1;31mTypeError\u001b[0m: a bytes-like object is required, not 'str'",
      "\nDuring handling of the above exception, another exception occurred:\n",
      "\u001b[1;31mFileNotFoundError\u001b[0m                         Traceback (most recent call last)",
      "\u001b[1;32m~\\.conda\\envs\\pytorch\\lib\\site-packages\\IPython\\core\\formatters.py\u001b[0m in \u001b[0;36m__call__\u001b[1;34m(self, obj)\u001b[0m\n\u001b[0;32m    343\u001b[0m             \u001b[0mmethod\u001b[0m \u001b[1;33m=\u001b[0m \u001b[0mget_real_method\u001b[0m\u001b[1;33m(\u001b[0m\u001b[0mobj\u001b[0m\u001b[1;33m,\u001b[0m \u001b[0mself\u001b[0m\u001b[1;33m.\u001b[0m\u001b[0mprint_method\u001b[0m\u001b[1;33m)\u001b[0m\u001b[1;33m\u001b[0m\u001b[1;33m\u001b[0m\u001b[0m\n\u001b[0;32m    344\u001b[0m             \u001b[1;32mif\u001b[0m \u001b[0mmethod\u001b[0m \u001b[1;32mis\u001b[0m \u001b[1;32mnot\u001b[0m \u001b[1;32mNone\u001b[0m\u001b[1;33m:\u001b[0m\u001b[1;33m\u001b[0m\u001b[1;33m\u001b[0m\u001b[0m\n\u001b[1;32m--> 345\u001b[1;33m                 \u001b[1;32mreturn\u001b[0m \u001b[0mmethod\u001b[0m\u001b[1;33m(\u001b[0m\u001b[1;33m)\u001b[0m\u001b[1;33m\u001b[0m\u001b[1;33m\u001b[0m\u001b[0m\n\u001b[0m\u001b[0;32m    346\u001b[0m             \u001b[1;32mreturn\u001b[0m \u001b[1;32mNone\u001b[0m\u001b[1;33m\u001b[0m\u001b[1;33m\u001b[0m\u001b[0m\n\u001b[0;32m    347\u001b[0m         \u001b[1;32melse\u001b[0m\u001b[1;33m:\u001b[0m\u001b[1;33m\u001b[0m\u001b[1;33m\u001b[0m\u001b[0m\n",
      "\u001b[1;32m~\\.conda\\envs\\pytorch\\lib\\site-packages\\IPython\\core\\display.py\u001b[0m in \u001b[0;36m_repr_png_\u001b[1;34m(self)\u001b[0m\n\u001b[0;32m   1311\u001b[0m     \u001b[1;32mdef\u001b[0m \u001b[0m_repr_png_\u001b[0m\u001b[1;33m(\u001b[0m\u001b[0mself\u001b[0m\u001b[1;33m)\u001b[0m\u001b[1;33m:\u001b[0m\u001b[1;33m\u001b[0m\u001b[1;33m\u001b[0m\u001b[0m\n\u001b[0;32m   1312\u001b[0m         \u001b[1;32mif\u001b[0m \u001b[0mself\u001b[0m\u001b[1;33m.\u001b[0m\u001b[0membed\u001b[0m \u001b[1;32mand\u001b[0m \u001b[0mself\u001b[0m\u001b[1;33m.\u001b[0m\u001b[0mformat\u001b[0m \u001b[1;33m==\u001b[0m \u001b[0mself\u001b[0m\u001b[1;33m.\u001b[0m\u001b[0m_FMT_PNG\u001b[0m\u001b[1;33m:\u001b[0m\u001b[1;33m\u001b[0m\u001b[1;33m\u001b[0m\u001b[0m\n\u001b[1;32m-> 1313\u001b[1;33m             \u001b[1;32mreturn\u001b[0m \u001b[0mself\u001b[0m\u001b[1;33m.\u001b[0m\u001b[0m_data_and_metadata\u001b[0m\u001b[1;33m(\u001b[0m\u001b[1;33m)\u001b[0m\u001b[1;33m\u001b[0m\u001b[1;33m\u001b[0m\u001b[0m\n\u001b[0m\u001b[0;32m   1314\u001b[0m \u001b[1;33m\u001b[0m\u001b[0m\n\u001b[0;32m   1315\u001b[0m     \u001b[1;32mdef\u001b[0m \u001b[0m_repr_jpeg_\u001b[0m\u001b[1;33m(\u001b[0m\u001b[0mself\u001b[0m\u001b[1;33m)\u001b[0m\u001b[1;33m:\u001b[0m\u001b[1;33m\u001b[0m\u001b[1;33m\u001b[0m\u001b[0m\n",
      "\u001b[1;32m~\\.conda\\envs\\pytorch\\lib\\site-packages\\IPython\\core\\display.py\u001b[0m in \u001b[0;36m_data_and_metadata\u001b[1;34m(self, always_both)\u001b[0m\n\u001b[0;32m   1293\u001b[0m             \u001b[0mb64_data\u001b[0m \u001b[1;33m=\u001b[0m \u001b[0mb2a_base64\u001b[0m\u001b[1;33m(\u001b[0m\u001b[0mself\u001b[0m\u001b[1;33m.\u001b[0m\u001b[0mdata\u001b[0m\u001b[1;33m)\u001b[0m\u001b[1;33m.\u001b[0m\u001b[0mdecode\u001b[0m\u001b[1;33m(\u001b[0m\u001b[1;34m'ascii'\u001b[0m\u001b[1;33m)\u001b[0m\u001b[1;33m\u001b[0m\u001b[1;33m\u001b[0m\u001b[0m\n\u001b[0;32m   1294\u001b[0m         \u001b[1;32mexcept\u001b[0m \u001b[0mTypeError\u001b[0m\u001b[1;33m:\u001b[0m\u001b[1;33m\u001b[0m\u001b[1;33m\u001b[0m\u001b[0m\n\u001b[1;32m-> 1295\u001b[1;33m             raise FileNotFoundError(\n\u001b[0m\u001b[0;32m   1296\u001b[0m                 \"No such file or directory: '%s'\" % (self.data))\n\u001b[0;32m   1297\u001b[0m         \u001b[0mmd\u001b[0m \u001b[1;33m=\u001b[0m \u001b[1;33m{\u001b[0m\u001b[1;33m}\u001b[0m\u001b[1;33m\u001b[0m\u001b[1;33m\u001b[0m\u001b[0m\n",
      "\u001b[1;31mFileNotFoundError\u001b[0m: No such file or directory: '92000.png'"
     ]
    },
    {
     "data": {
      "text/plain": [
       "<IPython.core.display.Image object>"
      ]
     },
     "execution_count": 11,
     "metadata": {},
     "output_type": "execute_result"
    }
   ],
   "source": [
    "from IPython.display import Image\n",
    "\n",
    "Image('92000.png')"
   ]
  },
  {
   "cell_type": "code",
   "execution_count": null,
   "metadata": {},
   "outputs": [],
   "source": []
  }
 ],
 "metadata": {
  "kernelspec": {
   "display_name": "Pytorch",
   "language": "python",
   "name": "pytorch"
  },
  "language_info": {
   "codemirror_mode": {
    "name": "ipython",
    "version": 3
   },
   "file_extension": ".py",
   "mimetype": "text/x-python",
   "name": "python",
   "nbconvert_exporter": "python",
   "pygments_lexer": "ipython3",
   "version": "3.8.5"
  }
 },
 "nbformat": 4,
 "nbformat_minor": 4
}
